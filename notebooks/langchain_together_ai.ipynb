{
 "cells": [
  {
   "cell_type": "code",
   "execution_count": 137,
   "metadata": {},
   "outputs": [],
   "source": [
    "from langchain.prompts import PromptTemplate\n",
    "from langchain.chains import LLMChain\n",
    "from langchain_together import ChatTogether\n",
    "from langchain_core.output_parsers import JsonOutputParser\n",
    "import json\n",
    "from pydantic import BaseModel, Field\n",
    "\n",
    "from dotenv import load_dotenv\n",
    "import os"
   ]
  },
  {
   "cell_type": "code",
   "execution_count": 135,
   "metadata": {},
   "outputs": [
    {
     "name": "stderr",
     "output_type": "stream",
     "text": [
      "UsageError: Line magic function `%dotenv` not found.\n"
     ]
    }
   ],
   "source": [
    "%dotenv \"../.env\""
   ]
  },
  {
   "cell_type": "code",
   "execution_count": 136,
   "metadata": {},
   "outputs": [
    {
     "data": {
      "text/plain": [
       "True"
      ]
     },
     "execution_count": 136,
     "metadata": {},
     "output_type": "execute_result"
    }
   ],
   "source": [
    "load_dotenv()"
   ]
  },
  {
   "cell_type": "code",
   "execution_count": 130,
   "metadata": {},
   "outputs": [],
   "source": [
    "\n",
    "react_js_interview_question = [\n",
    "    \"What is React?\",\n",
    "    \"What are the key features of React?\",\n",
    "    \"What is JSX?\",\n",
    "    \"What is the virtual DOM?\",\n",
    "    \"What is a component in React?\",\n",
    "    \"What is the difference between state and props in React?\",\n",
    "    \"What are React hooks?\",\n",
    "    \"What is the significance of keys in React?\",\n",
    "    \"What is the purpose of render() in React?\",\n",
    "    \"What is the use of ref in React?\",\n",
    "    \"What are the lifecycle methods in React?\",\n",
    "    \"What is the significance of context in React?\",\n",
    "    \"What is the significance of portals in React?\",\n",
    "    \"What are higher-order components in React?\",\n",
    "    \"What is the significance of error boundaries in React?\",\n",
    "    \"What is the significance of fragments in React?\",\n",
    "    \"What is the significance of lazy loading in React?\",\n",
    "]\n",
    "\n",
    "react_js_interview_expected_answers = [\n",
    "    \"React is a JavaScript library used for building user interfaces.\",\n",
    "    \"Key features of React include JSX, components, virtual DOM, React hooks, and more.\",\n",
    "    \"JSX is a syntax extension for JavaScript that allows HTML to be written in JavaScript code.\",\n",
    "    \"The virtual DOM is a lightweight copy of the actual DOM that React uses to improve performance.\",\n",
    "    \"A component is a reusable piece of code that represents a part of the user interface.\",\n",
    "    \"State is mutable data that is managed by a component, while props are immutable data passed from a parent component.\",\n",
    "    \"React hooks are functions that let you use state and other React features in functional components.\",\n",
    "    \"Keys are used to uniquely identify elements in a list and improve performance.\",\n",
    "    \"The render() method is used to render the component's UI based on its current state and props.\",\n",
    "    \"The ref attribute is used to reference a React element or component.\",\n",
    "    \"Lifecycle methods are methods that are called at different stages of a component's life cycle.\",\n",
    "    \"Context provides a way to pass data through the component tree without having to pass props down manually at every level.\",\n",
    "    \"Portals provide a way to render children components outside the DOM hierarchy of the parent component.\",\n",
    "    \"Higher-order components are functions that take a component and return a new component with additional functionality.\",\n",
    "    \"Error boundaries are React components that catch JavaScript errors anywhere in their child component tree.\",\n",
    "    \"Fragments allow you to group multiple elements without adding extra nodes to the DOM.\",\n",
    "    \"Lazy loading is a technique that defers the loading of non-essential resources until they are needed.\",\n",
    "]\n",
    "\n",
    "qa_template = \"\"\"\n",
    "You are an AI designed to evaluate the quality of a user's answer based on the question provided for a React JS interview.\n",
    "\n",
    "\n",
    "Question: \"{question}\"\n",
    "\n",
    "User's answer: \"{user_answer}\"\n",
    "\n",
    "Rate the user's answer on a scale from 1 to 10 based on its relevance, accuracy, and completeness (with 1 being completely irrelevant or incorrect, and 10 being a perfect answer).\n",
    "{format_instructions}\n",
    "\"\"\"\n",
    "# Only return your output as json strong with the following key:\n",
    "# - rating\n",
    "compare_template = \"\"\"\n",
    "You are an AI designed to evaluate the quality of a user's answer based on the provided expected answer.\n",
    "\n",
    "Expected answer: \"{expected_answer}\"\n",
    "\n",
    "User's answer: \"{user_answer}\"\n",
    "\n",
    "Rate the user's answer on a scale from 1 to 10 based on its relevance (with 1 being completely irrelevant or incorrect, and 10 being a perfect answer).Do not be very strict\n",
    "Return your output in JSON format with the following keys:\n",
    "- rating\n",
    "\n",
    "\"\"\"\n",
    "\n",
    "\n",
    "class RatingModel(BaseModel):\n",
    "    rating: int = Field(..., ge=1, le=10)\n",
    "\n",
    "\n",
    "parser = JsonOutputParser(pydantic_object=RatingModel)\n",
    "\n",
    "qa_prompt = PromptTemplate(input_variables=[\"question\", \"user_answer\"], template=qa_template, partial_variables={\n",
    "                           \"format_instructions\": parser.get_format_instructions()})\n",
    "compare_prompt = PromptTemplate(\n",
    "    input_variables=[\"expected_answer\", \"user_answer\"], template=compare_template)\n",
    "\n",
    "\n",
    "prompt_templates = {\n",
    "    \"qa\": qa_prompt,\n",
    "    \"compare\": compare_prompt\n",
    "}\n",
    "\n",
    "\n",
    "class LLM_Api:\n",
    "    def __init__(self, model_name, temperature=0.0, api_key=None, chatbot_type=\"qa\"):\n",
    "\n",
    "        if api_key is None:\n",
    "            raise ValueError(\"API key is required.\")\n",
    "        try:\n",
    "            llm = ChatTogether(\n",
    "                api_key=api_key, temperature=temperature, model=model_name)\n",
    "            self.llm_chain = prompt_templates[chatbot_type] | llm | parser\n",
    "        except Exception as e:\n",
    "            raise ValueError(\"Error initializing the LLM chain: \" + str(e))\n",
    "\n",
    "    def rate_answer(self, question, user_answer):\n",
    "        return self.llm_chain.invoke({\"question\": question, \"user_answer\": user_answer})\n",
    "\n",
    "    def compare_answers(self, expected_answer, user_answer):\n",
    "        return self.llm_chain.invoke({\"expected_answer\": expected_answer, \"user_answer\": user_answer})"
   ]
  },
  {
   "cell_type": "code",
   "execution_count": 127,
   "metadata": {},
   "outputs": [],
   "source": [
    "api = LLM_Api(model_name=\"meta-llama/Meta-Llama-3.1-8B-Instruct-Turbo\", temperature=0.0,\n",
    "              api_key=os.environ[\"TOGETHER_AI_API_KEY\"], chatbot_type=\"qa\")"
   ]
  },
  {
   "cell_type": "code",
   "execution_count": null,
   "metadata": {},
   "outputs": [],
   "source": []
  },
  {
   "cell_type": "code",
   "execution_count": null,
   "metadata": {},
   "outputs": [],
   "source": [
    "rating = api.rate_answer(react_js_interview_question[0], \"React is a JavaScript library for building user interfaces.\")"
   ]
  },
  {
   "cell_type": "code",
   "execution_count": 123,
   "metadata": {},
   "outputs": [],
   "source": [
    "# rating = rate_answer_langchain_2(\"React is a JavaScript library for building user interfaces.\", \"It is a web based javascript library for building websites.\")"
   ]
  },
  {
   "cell_type": "code",
   "execution_count": 128,
   "metadata": {},
   "outputs": [
    {
     "data": {
      "text/plain": [
       "{'rating': 8}"
      ]
     },
     "execution_count": 128,
     "metadata": {},
     "output_type": "execute_result"
    }
   ],
   "source": [
    "rating"
   ]
  },
  {
   "cell_type": "code",
   "execution_count": 1,
   "metadata": {},
   "outputs": [],
   "source": [
    "import numpy as np"
   ]
  },
  {
   "cell_type": "code",
   "execution_count": 14,
   "metadata": {},
   "outputs": [
    {
     "data": {
      "text/plain": [
       "array([ 1376.91304348,  9793.08695652, 14793.08695652,   792.91304348,\n",
       "         910.91304348,  1353.91304348,  4763.08695652,  1487.91304348,\n",
       "        1317.91304348,   901.91304348,  1450.91304348,   787.91304348,\n",
       "        1308.91304348,   806.91304348,  1210.91304348,  7946.91304348,\n",
       "         758.91304348,   995.91304348,  1400.91304348,   929.91304348,\n",
       "         987.91304348,  1161.91304348,  1458.91304348])"
      ]
     },
     "execution_count": 14,
     "metadata": {},
     "output_type": "execute_result"
    }
   ],
   "source": [
    "a=[ 330, 11500, 16500, 914, 796, 353, 6470, 219, 389, 805, 256, 919, 398, 900, 496, -6240, 948, 711, 306, 777, 719, 545, 248]\n",
    "a=np.array(a)\n",
    "b=np.abs(np.array(a) -  np.mean(a))\n",
    "b\n",
    "mask = b > 2 * np.std(a)\n",
    "mask\n",
    "a[mask] = np.median(a)"
   ]
  },
  {
   "cell_type": "code",
   "execution_count": 13,
   "metadata": {},
   "outputs": [
    {
     "data": {
      "text/plain": [
       "array([  330,   711,   711,   914,   796,   353,  6470,   219,   389,\n",
       "         805,   256,   919,   398,   900,   496, -6240,   948,   711,\n",
       "         306,   777,   719,   545,   248])"
      ]
     },
     "execution_count": 13,
     "metadata": {},
     "output_type": "execute_result"
    }
   ],
   "source": [
    "a"
   ]
  },
  {
   "cell_type": "code",
   "execution_count": null,
   "metadata": {},
   "outputs": [],
   "source": []
  }
 ],
 "metadata": {
  "kernelspec": {
   "display_name": "base",
   "language": "python",
   "name": "python3"
  },
  "language_info": {
   "codemirror_mode": {
    "name": "ipython",
    "version": 3
   },
   "file_extension": ".py",
   "mimetype": "text/x-python",
   "name": "python",
   "nbconvert_exporter": "python",
   "pygments_lexer": "ipython3",
   "version": "3.11.9"
  }
 },
 "nbformat": 4,
 "nbformat_minor": 2
}
