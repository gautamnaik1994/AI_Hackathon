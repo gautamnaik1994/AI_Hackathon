{
 "cells": [
  {
   "cell_type": "code",
   "execution_count": 1,
   "metadata": {
    "id": "jMQslVSxvbb5"
   },
   "outputs": [
    {
     "data": {
      "text/plain": [
       "True"
      ]
     },
     "execution_count": 1,
     "metadata": {},
     "output_type": "execute_result"
    }
   ],
   "source": [
    "import warnings\n",
    "warnings.filterwarnings(\"ignore\")\n",
    "## setting up the language model\n",
    "import os\n",
    "from dotenv import load_dotenv\n",
    "from langchain_together import ChatTogether\n",
    "from langchain.chains.router import MultiPromptChain\n",
    "from langchain.chains.router.llm_router import LLMRouterChain, RouterOutputParser\n",
    "from langchain.prompts import PromptTemplate, ChatPromptTemplate\n",
    "from langchain import LLMChain\n",
    "\n",
    "## load the environment variables\n",
    "load_dotenv()"
   ]
  },
  {
   "cell_type": "code",
   "execution_count": 2,
   "metadata": {},
   "outputs": [],
   "source": [
    "llm = ChatTogether(api_key=os.getenv(\"TOGETHER_AI_API_KEY\"),temperature=0.0, model=\"meta-llama/Meta-Llama-3.1-8B-Instruct-Turbo\")"
   ]
  },
  {
   "cell_type": "code",
   "execution_count": 3,
   "metadata": {
    "id": "6h4I4r84hY20"
   },
   "outputs": [],
   "source": [
    "from langchain.document_loaders import PyPDFLoader # PDF loader from langchain\n",
    "\n",
    "# Load PDF\n",
    "loaders = [\n",
    "    PyPDFLoader(\"./Gautam_Naik_CV.pdf\")\n",
    "]\n",
    "docs = []\n",
    "for loader in loaders:\n",
    "    docs.extend(loader.load())"
   ]
  },
  {
   "cell_type": "code",
   "execution_count": 4,
   "metadata": {},
   "outputs": [
    {
     "data": {
      "text/plain": [
       "2"
      ]
     },
     "execution_count": 4,
     "metadata": {},
     "output_type": "execute_result"
    }
   ],
   "source": [
    "len(docs)"
   ]
  },
  {
   "cell_type": "code",
   "execution_count": 5,
   "metadata": {},
   "outputs": [
    {
     "data": {
      "text/plain": [
       "\"Gautam\\nNaik\\nS e n i o r\\nS o f t w a r e\\nE n g i n e e r\\nGoa-India\\n•\\n+91\\n9421873737\\n•\\ngautamnaik1994@gmail.com\\n•\\nlink edin.com/in/gautamnaik1994\\n•\\ngautamnaik.com\\n●\\nS e n i o r\\nS o f t w a r e\\nE n g i n e e r\\nw i t h\\no v e r\\n8\\ny e a r s\\no f\\ne x p e r i e n c e\\nd e v e l o p i n g\\nf r o n t e n d\\ns y s t e m s\\na n d\\nr e s p o n s i v e\\nw e b s i t e s\\nu s i n g\\nR e a c t J S ,\\nN e x t J S ,\\nT y p e s c r i p t ,\\nR e d u x ,\\nJ a v a S c r i p t ,\\nE S 6 ,\\na n d\\nC S S .\\n●\\nP r o v e n\\nt r a c k\\nr e c o r d\\no f\\nl e a d i n g\\na\\nt e a m ,\\na n d\\nc o l l a b o r a t i n g\\nw i t h\\ns t a k e h o l d e r s\\nt o\\nt r a n s l a t e\\nf u n c t i o n a l\\na n d\\nb u s i n e s s\\ns p e c i ﬁ c a t i o n s\\ni n t o\\ns e a m l e s s\\nu s e r\\ne x p e r i e n c e s .\\n●\\nI n\\na d d i t i o n ,\\nI\\nh a v e\\na\\nw o r k i n g\\nk n o w l e d g e\\no f\\nA W S\\ns e r v i c e s ,\\ni n c l u d i n g\\nA W S\\nC l o u d\\nD e v e l o p m e n t\\nK i t\\n( C D K ) ,\\nL a m b d a ,\\nS e r v e r l e s s\\nA p p s ,\\nD y n a m o D B ,\\nS Q L\\na n d\\nt h e\\nP y t h o n\\np r o g r a m m i n g\\nl a n g u a g e .\\nWORK\\nEXPERIENCE\\n_ _ _ _ _ _ _ _ _ _ _ _ _ _ _ _ _ _ _ _ _ _ _ _ _ _ _ _ _ _ _ _ _ _ _ _ _ _ _ _ _ _ _ _ _ _ _ _ _ _ _ _ _ _ _ _ _ _ _ _ _ _ _ _ _ _ _ _ _ _ _ _ _ _ _ _ _ _ _ _ _ _ _ _ _ _ _ _ _ _ _ _ _ _ _ _ _ _ _ _ _ _ _ _ _ _ _ _ _ _ _\\nS e n i o r\\nC o n s u l t a n t\\nJ a n u a r y\\n2 0 2 4\\n–\\nP r e s e n t\\nK a a r a\\nI n f o t e c h\\n●\\nS e r v e d\\na s\\na\\nF r o n t e n d\\nC o n s u l t a n t\\nf o r\\nM i c r o s o f t ,\\nc o l l a b o r a t i n g\\no n\\na n\\na p p l i c a t i o n\\nb u i l t\\nu s i n g\\nR e a c t J S ,\\nN e x t J S ,\\na n d\\nR e d u x .\\n●\\nS u c c e s s f u l l y\\ni n t e g r a t e d\\nR T K\\nQ u e r y\\ni n t o\\nt h e\\np r o j e c t ' s\\na r c h i t e c t u r e ,\\ns i g n i ﬁ c a n t l y\\ni m p r o v i n g\\nt h e\\nd a t a\\nf e t c h i n g\\na n d\\nc a c h i n g\\np r o c e s s e s .\\n●\\nC o l l a b o r a t e d\\nw i t h\\nt h e\\nd e s i g n\\nt e a m\\nt o\\nd e v e l o p\\nc u s t o m\\nA z u r e\\nB 2 C\\nt e m p l a t e s ,\\na d h e r i n g\\nt o\\nt h e\\ne s t a b l i s h e d\\nU I / U X\\ng u i d e l i n e s .\\n●\\nI m p l e m e n t e d\\nG o o g l e\\nA n a l y t i c s\\ni n t e g r a t i o n\\nt o\\nm o n i t o r\\na n d\\na n a l y s e\\nu s e r\\nb e h a v i o u r ,\\np r o v i d i n g\\nv a l u a b l e\\ni n s i g h t s\\nf o r\\np r o d u c t\\ni m p r o v e m e n t .\\nL e a d\\nF r o n t e n d\\na n d\\nU I\\nD e v e l o p e r\\nA p r i l\\n2 0 1 7\\n–\\nN o v e m b e r\\n2 0 2 3\\nG r a s s d o o r\\nL o g i s t i c s\\nP v t\\nL t d\\n●\\nW a s\\na\\nm e m b e r\\no f\\nt h e\\nc o r e\\nt e a m\\nt h a t\\nd e v e l o p e d\\nG r a s s d o o r ,\\na n\\ne - c o m m e r c e\\nw e b s i t e\\na n d\\ni t s\\na s s o c i a t e d\\na d m i n\\np o r t a l\\nu s i n g\\nR e a c t J S ,\\nT y p e s c r i p t ,\\nN e x t J S\\na n d\\nR e d u x\\nf o r\\ns t a t e\\nm a n a g e m e n t\\nk e e p i n g\\nt h e\\nm o b i l e\\ne x p e r i e n c e\\ni n\\nf o c u s .\\n●\\nC o m m u n i c a t e d\\nw i t h\\ns t a k e h o l d e r s\\nt o\\ng a t h e r\\nr e q u i r e m e n t s\\na n d\\np r o v i d e d\\nr e c o m m e n d a t i o n s\\nt h a t\\nc o n s i d e r e d\\nb o t h\\nb u s i n e s s\\na n d\\nt e c h n i c a l\\nv i a b i l i t y ,\\nr e s u l t i n g\\ni n\\nr e d u c e d\\nd e v e l o p m e n t\\nt i m e .\\n●\\nC o l l a b o r a t e d\\nw i t h\\nt h e\\nU X\\nt e a m\\nt o\\nﬁ n d\\ns o l u t i o n s\\nf o r\\np r o b l e m s\\nl i k e\\nc a r t\\na b a n d o n m e n t ,\\ns i g n u p\\nd r o p - o f f s ,\\na n d\\no r d e r\\nc a n c e l l a t i o n s\\nu s i n g\\nd a t a\\nf r o m\\nH o t j a r ,\\nS e g m e n t ,\\na n d\\nG o o g l e\\nA n a l y t i c s ,\\nw h i c h\\nl e d\\nt o\\ni n c r e a s e d\\ns a l e s\\na n d\\nu s e r\\ne n g a g e m e n t\\nf o r\\nt h e\\nc o m p a n y .\\n●\\nR e s t r u c t u r e d\\na n d\\no p t i m i s e d\\nt h e\\ne n t i r e\\nc o d e b a s e\\nb a s e d\\no n\\nt h e\\nf e e d b a c k\\nf r o m\\nG o o g l e ’ s\\nP a g e s p e e d\\nI n s i g h t s\\nt h e r e b y\\ni n c r e a s i n g\\nt h e\\ns c o r e\\nb y\\n3 0 - 4 0\\np o i n t s .\\n●\\nI n c r e a s e d\\nt h e\\ne n g i n e e r i n g\\nt e a m ' s\\ne ﬃ c i e n c y\\nb y\\nr e c r u i t i n g ,\\nt r a i n i n g ,\\na n d\\ns u p e r v i s i n g\\na\\ng r o u p\\no f\\n7\\nj u n i o r\\nd e v e l o p e r s .\\n●\\nI n c r e a s e d\\nt h e\\nt e a m ' s\\np r o d u c t i v i t y\\nb y\\ni m p l e m e n t i n g\\nT y p e s c r i p t\\ni n t e r f a c e s\\nf o r\\nc o m p o n e n t s\\nt o\\ne n a b l e\\np r o p\\na u t o c o m p l e t i o n\\na n d\\nc o m p o n e n t\\nv a l i d a t i o n .\\n●\\nD e v e l o p e d\\nc o s t - e f f e c t i v e\\ns e r v e r l e s s\\nm i c r o s e r v i c e s\\nu s i n g\\nA W S\\nC D K ,\\nA W S\\nL a m b d a ,\\nD y n a m o D B ,\\na n d\\nA P I\\nG a t e w a y .\\nF r o n t e n d\\nD e v e l o p e r\\n&\\nD e s i g n e r\\nA u g\\n2 0 1 5\\n–\\nM a r c h\\n2 0 1 7\\nG e n o r a\\nI n f o t e c h\\nP v t\\nL t d\\n●\\nD e s i g n e d\\na n d\\nl a u n c h e d\\nw e b s i t e s\\nf o r\\ns m a l l\\na n d\\nm e d i u m - s i z e d\\nb u s i n e s s e s ,\\nu s i n g\\nt e c h n o l o g i e s\\ns u c h\\na s\\nA n g u l a r\\nM a t e r i a l ,\\nH T M L ,\\nC S S ,\\nB o o t s t r a p\\nU I ,\\na n d\\nJ a v a S c r i p t ,\\nw h i c h\\ni n c r e a s e d\\nt h e i r\\ns a l e s\\na n d\\nr e a c h .\\n●\\nL e d\\nt h e\\nr e d e s i g n\\no f\\nt h e\\nc o m p a n y\\nw e b s i t e ,\\nf o c u s i n g\\no n\\ns e a r c h\\ne n g i n e\\no p t i m i s a t i o n\\n( S E O )\\na n d\\nm o b i l e\\nr e s p o n s i v e n e s s ,\\nw h i c h\\nl e d\\nt o\\na\\ns i g n i ﬁ c a n t\\nr i s e\\ni n\\nt r a ﬃ c\\na n d ,\\na s\\na\\nr e s u l t ,\\nm o r e\\nc l i e n t s .\""
      ]
     },
     "execution_count": 5,
     "metadata": {},
     "output_type": "execute_result"
    }
   ],
   "source": [
    "docs[0].page_content"
   ]
  },
  {
   "cell_type": "code",
   "execution_count": 6,
   "metadata": {
    "id": "FsjOWQInhiEo"
   },
   "outputs": [],
   "source": [
    "from langchain.text_splitter import RecursiveCharacterTextSplitter \n",
    "\n",
    "text_splitter = RecursiveCharacterTextSplitter(\n",
    "    chunk_size = 500,\n",
    "    chunk_overlap = 100,\n",
    "    separators=[\"\\n\\n\",\"\\n\",\".\",\" \"] \n",
    ")"
   ]
  },
  {
   "cell_type": "code",
   "execution_count": 7,
   "metadata": {
    "id": "BQ3asys8hmh8"
   },
   "outputs": [],
   "source": [
    "splits = text_splitter.split_documents(docs)"
   ]
  },
  {
   "cell_type": "code",
   "execution_count": 8,
   "metadata": {
    "colab": {
     "base_uri": "https://localhost:8080/"
    },
    "id": "zlkh0_gchpET",
    "outputId": "80733359-e722-4fa3-9ef5-cf967f8ac909"
   },
   "outputs": [
    {
     "data": {
      "text/plain": [
       "26"
      ]
     },
     "execution_count": 8,
     "metadata": {},
     "output_type": "execute_result"
    }
   ],
   "source": [
    "len(splits)"
   ]
  },
  {
   "cell_type": "code",
   "execution_count": 10,
   "metadata": {
    "colab": {
     "base_uri": "https://localhost:8080/",
     "height": 458,
     "referenced_widgets": [
      "5f8c565649ee458cbd94c28849a0acc4",
      "c44f087b2f7c4aff82fb9aecf2d85a13",
      "3de027f8c7fc45d198e37b2a4198f3cc",
      "196b741b07004b188e0f50deb6c94c6f",
      "708c961df6764cbeb7c0344a1c8479d1",
      "9c438a788b504da0b15614474d51dc27",
      "6ce409530db84591beb217a0163432fb",
      "4b136707cad446e3a559f20867e2a98b",
      "676674f629a346c9ad29fb3dc95d0030",
      "aeae7f0bc42a4155af5491bc9c46acef",
      "fd0c08292481445c86221dfe072a1eb3",
      "49971ca41a384de79dc213f3c782c69d",
      "23f4083127654b828b6df7a5f9dd9e45",
      "7d50e70f82e140aca52a3b2b206ee24d",
      "2b3f11094275453d8ef30218e6d549d0",
      "62c7ff49624647c79841d83f8fe7fe5a",
      "57df5331004a4d068919e7cad6572a42",
      "fd0583ad80194430bfcccb29f1a73914",
      "283e01efd1034dd7a01c7677fd0b0c76",
      "539ee4bbfc904e4fba1136efde3590c8",
      "15e5128116214e508ac79385104ab342",
      "06daa5bbf2de44bd9bb0ebfce96aadfd",
      "a5b7d1aacb00478a98e5c77acad82541",
      "424845592343436d8c1a156f3bb0fb1a",
      "b51f1a1482404c8690eaa4a7bff5ab8b",
      "3d287e4d49c243ecbe904907d41c0fc6",
      "b8235ec2bba04d4da109f11aead4136c",
      "fae9cf89eeec4204b273073d777bb929",
      "9a3adbd5df4d4943a4ea834e4591ce1c",
      "bf564fca246a42fc9449e1ceccd75faa",
      "b75f131b549c4f40b02d7e1f138bb842",
      "0a9fedb036a0476a87edd35a954e074a",
      "15dc4bd40a314ad3bbb7f575140a50bd",
      "c44bd63d7c694166a9af6417b7917b32",
      "572e7c99f13a44699e7eed1e2271e9d4",
      "84a471d0b9824da2a018ac4c74d0e32f",
      "03cc0d053d214806b98c7216de229921",
      "cbe3535faa1442c697f6dcb6efa5bc82",
      "c12dba5a20be41bfba43db6adbf5eb54",
      "609bbe20180f4c6a94a97f34bacfd9e5",
      "1dcca08c1d4442a4a0bd2cc0a77f77f1",
      "a9d97190ef374d61a228121494315ab7",
      "a08aa97417d4409baef3355e1d787089",
      "cc12ea6a00734bc89ff1df5f783488be",
      "c3903d73800d4ae281c9adaddd64e41a",
      "82a41d302bcd40f392fdf0169e981086",
      "d6b5e1b032d2482cb4d42efebc771484",
      "ead5121e56cc4685bc9d78f5b3192933",
      "c36add99f15a4efb95db726458f05927",
      "1aa8d47cb4934da78523e0df52a08fd5",
      "e58da78ff9fc481e92ded1769acc8bba",
      "ff8a5ed4e14443f3becfcba3cf8624c5",
      "ce50a9a6b4da4ff2b347ec6d0c3226f1",
      "db6522484d064c11a52065aa0e694875",
      "254082431ae446089ccb272bb3bc23e9",
      "d4f9ab8964fe400fab1c6bbd4f37ed8f",
      "28c4635c46494189b4173ac74e4af013",
      "c4ac6ea070654d32b0108f023ae86b24",
      "b449117d7d5043c8879f3c88917d4d3a",
      "ddc171b2f1644e079d31711f521e6dbc",
      "28fd72a47d4c490cabcb4c9a895db00d",
      "7238c5b7ffd04003b94405df0b259173",
      "d85edcc90e3d4745bbf2db580f5efd18",
      "bc9bc54a81f94ab694b4480397317ce4",
      "0d18eb47a87546fc87964d9eff63355a",
      "5eb5e988c4e040c88a25aa3a4af5ed22",
      "e7ade88e6d3b48e39f1529001eba60b6",
      "ddcf04d6fdb04bd4bd564b0222f20c71",
      "88e50305c1ea42ccb2e74bcf53cb89de",
      "bf2371a739c94be2ab2d79bbacdeeae3",
      "a4b06adeb570407f9a4146e873bc20f3",
      "e8fe1a36c484413599d80ec8dd055fd4",
      "775c5c788d8943eca6457177fa6ee246",
      "afad22069c5b445d84d848b93f562689",
      "69c89d587c62405d96b8b6696b6aa9d1",
      "2c72501570ce431e8e19a341c60cb66e",
      "7967a194a6384c9eb3e62d3b88291efa",
      "bae480e8f79e4fb1b2fc7be831fb1628",
      "bf6bae6c1a9f4b22b79f6d910de3e97f",
      "3b4f8a4eaaab45f2ac6f8637580dd750",
      "185470b49de84d59ae67db5e4d628112",
      "22358ffeda8947129c54b0fa6694ce99",
      "333255dbc9cd4b3d9f31feb73a46cbfc",
      "d8872e9167b248fb8fc41b32da1dd3f0",
      "2521d066576d48f0ad69ca71224a6c98",
      "17e68b8e85f9401ca8282648dc9341b8",
      "8d01ac2e36ec4f21952c1c30928c725d",
      "3a789095acb04e2aad03144d97e7c260",
      "7896414c7452444abaf8fd02210618ab",
      "3611ad08df2e4da2b941c7a785ba2d6c",
      "1383d881a19b4ee2a4424f03efb3a10b",
      "e6cfb4903ba6497fb13face3c498583b",
      "4e456dbefc474355a4a012e7fd82c318",
      "ba7dd05239bb4d0ea9aac2cf0c5347f3",
      "d3f9b43cfe194f63bc0454ed3c1bcf87",
      "1d6103b42e4f44b496078291de857ba2",
      "14b9c857d4614cb79552825e6a2c11be",
      "eba43e9414ce402e97361641bdf34316",
      "c73f73f9770349968c2ae71d19034a6b",
      "1ecfe339b0fd48c8906c4e6d5a8fffc9",
      "5d27c447abf94a8f896f6df9e319975c",
      "0026ea210a5e445cb060c1f3c8d6ddad",
      "d386d6865c5a4c329945297c027384c6",
      "9de92a7d04a04d358e592c94bc7a0ea4",
      "7c3551d630224947ae611215c5d7ba3b",
      "073c6a74d5d94fd2b4515c17a4900bf6",
      "8cc46c9ccbb5451eb86b5352b281b3d8",
      "d7e9898383184058af7ab8506be3c1b1",
      "5c65e58ed88e4453ab7f19408b5af5d8",
      "1aad02493d9142ce8fa875be65344ece",
      "23fa6e0ba18c427ca01c39152f3bc712",
      "5ad5c04000ba4ebf8ac1baea49c68180",
      "99f96a011630427daf94f50de37abd9f",
      "e9cd133669634e7f86a90b867960ff33",
      "a4f1790f58044b5bab6f2b6fd843e732",
      "cd447ffd161b40349891ac89db9b9c84",
      "506e3431e1df457994ea26047e7c3f76",
      "834122903cae44a7a4ae17c4580bc711",
      "1b939dc4ff7d421eb53296795d765e59",
      "313da8b07d1343d8aff26a0f2eb4d557",
      "f13c3bfe72b0434d943cce85ef94bb26"
     ]
    },
    "id": "i8zf5vmvl8Ld",
    "outputId": "d6e2bc8b-a42c-4806-a0fe-deca14270de4"
   },
   "outputs": [],
   "source": [
    "# from langchain.embeddings import HuggingFaceEmbeddings\n",
    "from langchain_huggingface import HuggingFaceEmbeddings\n",
    "\n",
    "embedding = HuggingFaceEmbeddings()"
   ]
  },
  {
   "cell_type": "code",
   "execution_count": 11,
   "metadata": {
    "colab": {
     "base_uri": "https://localhost:8080/"
    },
    "id": "rPOWMEBZhqp_",
    "outputId": "e7062a72-5d85-4f3c-c702-d0440ca66090"
   },
   "outputs": [
    {
     "name": "stdout",
     "output_type": "stream",
     "text": [
      "26\n"
     ]
    }
   ],
   "source": [
    "from langchain_community.vectorstores import FAISS, InMemoryVectorStore\n",
    "\n",
    "db = FAISS.from_documents(splits, embedding)\n",
    "\n",
    "print(db.index.ntotal)"
   ]
  },
  {
   "cell_type": "code",
   "execution_count": 12,
   "metadata": {},
   "outputs": [],
   "source": [
    "vectorstore = InMemoryVectorStore.from_documents(\n",
    "    documents=splits, embedding=HuggingFaceEmbeddings()\n",
    ")"
   ]
  },
  {
   "cell_type": "code",
   "execution_count": 13,
   "metadata": {
    "id": "RdubhsM4mAGI"
   },
   "outputs": [],
   "source": [
    "from langchain.chains import RetrievalQA\n",
    "\n",
    "qa_chain = RetrievalQA.from_chain_type(\n",
    "    llm,\n",
    "    retriever=vectorstore.as_retriever()\n",
    ")"
   ]
  },
  {
   "cell_type": "code",
   "execution_count": 14,
   "metadata": {
    "id": "n6zdrAdrmR1r"
   },
   "outputs": [],
   "source": [
    "query = \"\"\"\n",
    "We are looking for a software engineer with experience in ReactJS, web development,\n",
    "and cloud platforms like AWS or Azure. The candidate should have excellent problem-solving skills.\n",
    "\"\"\""
   ]
  },
  {
   "cell_type": "code",
   "execution_count": 17,
   "metadata": {
    "colab": {
     "base_uri": "https://localhost:8080/"
    },
    "id": "IXuJ8XiQmJLd",
    "outputId": "698f0971-8928-4250-c72b-b3dc0f0d59f6"
   },
   "outputs": [],
   "source": [
    "result = qa_chain({\"query\": query})"
   ]
  },
  {
   "cell_type": "code",
   "execution_count": 16,
   "metadata": {},
   "outputs": [
    {
     "name": "stdout",
     "output_type": "stream",
     "text": [
      "Based on the provided information, it seems that Gautam Naik may be a suitable candidate for the position. He has:\n",
      "\n",
      "1. Experience as a Senior Software Engineer with over 8 years of experience in developing front-end systems and responsive websites using React JS, Next JS, TypeScript, Redux, JavaScript, ES6, and CSS.\n",
      "2. Proficiency in cloud platforms, as he has experience with AWS (Amazon Web Services), including AWS Cloud Development Kit (CDK), Lambda, Serverless Apps, DynamoDB, and SQL.\n",
      "3. Strong problem-solving skills, which is a requirement for the position.\n",
      "\n",
      "However, it's worth noting that the job description also mentions Azure, but Gautam's experience is specifically with AWS. If Azure is a requirement, it's unclear if Gautam has experience with it.\n"
     ]
    }
   ],
   "source": [
    "print(result[\"result\"])"
   ]
  },
  {
   "cell_type": "code",
   "execution_count": 25,
   "metadata": {
    "id": "2gzD-QFHmJ1w"
   },
   "outputs": [],
   "source": [
    "db.save_local(\"cv_db\")"
   ]
  },
  {
   "cell_type": "code",
   "execution_count": 20,
   "metadata": {
    "id": "BKPEdFjvwmwc"
   },
   "outputs": [],
   "source": [
    "new_db = FAISS.load_local(\"cv_db\", embedding, allow_dangerous_deserialization=True)"
   ]
  }
 ],
 "metadata": {
  "colab": {
   "provenance": []
  },
  "kernelspec": {
   "display_name": "base",
   "language": "python",
   "name": "python3"
  },
  "language_info": {
   "codemirror_mode": {
    "name": "ipython",
    "version": 3
   },
   "file_extension": ".py",
   "mimetype": "text/x-python",
   "name": "python",
   "nbconvert_exporter": "python",
   "pygments_lexer": "ipython3",
   "version": "3.11.9"
  }
 },
 "nbformat": 4,
 "nbformat_minor": 4
}
